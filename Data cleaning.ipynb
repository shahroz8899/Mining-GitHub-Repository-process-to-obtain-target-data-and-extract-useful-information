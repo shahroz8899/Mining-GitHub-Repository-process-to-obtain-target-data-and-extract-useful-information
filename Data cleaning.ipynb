{
 "cells": [
  {
   "cell_type": "code",
   "execution_count": 1,
   "id": "bc42836b",
   "metadata": {},
   "outputs": [],
   "source": [
    "import pandas as pd\n"
   ]
  },
  {
   "cell_type": "code",
   "execution_count": 4,
   "id": "3ac42284",
   "metadata": {},
   "outputs": [],
   "source": [
    "df = pd.read_csv('kubernetes_commits.csv')\n"
   ]
  },
  {
   "cell_type": "code",
   "execution_count": 5,
   "id": "a3703003",
   "metadata": {},
   "outputs": [
    {
     "name": "stdout",
     "output_type": "stream",
     "text": [
      "                                  commit_id                commit_time  \\\n",
      "0  cf2f21dd3ec7b14bbf7d597de7e4702d5902dde3  2021-11-14 11:50:19+02:00   \n",
      "1  2cde15029abd6751ce742fadd1bc5c51c7886633  2021-11-14 17:59:52+08:00   \n",
      "2  de0ece541c7fd885a32f1562342fe85535fc11f5  2021-11-14 19:49:19+00:00   \n",
      "3  991bb65ecc06a9e388f411f5a3f9a8737844ea70  2021-11-14 16:12:47-08:00   \n",
      "4  5eb584d1cb6917f26346db75e9c3df318e495b04  2021-11-14 19:54:47-08:00   \n",
      "\n",
      "      committer_id  changed_files  changed_LOC  \n",
      "0  Artyom Lukianov              1            4  \n",
      "1          Haleygo              2           68  \n",
      "2      Odin Ugedal              3           28  \n",
      "3           GitHub              0           14  \n",
      "4           GitHub              3           33  \n",
      "<class 'pandas.core.frame.DataFrame'>\n",
      "RangeIndex: 14771 entries, 0 to 14770\n",
      "Data columns (total 5 columns):\n",
      " #   Column         Non-Null Count  Dtype \n",
      "---  ------         --------------  ----- \n",
      " 0   commit_id      14771 non-null  object\n",
      " 1   commit_time    14771 non-null  object\n",
      " 2   committer_id   14771 non-null  object\n",
      " 3   changed_files  14771 non-null  int64 \n",
      " 4   changed_LOC    14771 non-null  int64 \n",
      "dtypes: int64(2), object(3)\n",
      "memory usage: 577.1+ KB\n",
      "None\n",
      "       changed_files    changed_LOC\n",
      "count   14771.000000   14771.000000\n",
      "mean        4.517704     824.110690\n",
      "std        33.449152    9135.689196\n",
      "min         0.000000       0.000000\n",
      "25%         0.000000       8.000000\n",
      "50%         1.000000      38.000000\n",
      "75%         2.000000     159.500000\n",
      "max      2934.000000  435273.000000\n"
     ]
    }
   ],
   "source": [
    "print(df.head())  # Display the first few rows\n",
    "print(df.info())  # Display information about the dataset\n",
    "print(df.describe())  # Summary statistics\n"
   ]
  },
  {
   "cell_type": "code",
   "execution_count": 7,
   "id": "8dd22066",
   "metadata": {},
   "outputs": [],
   "source": [
    "# Drop rows with missing values\n",
    "df = df.dropna()\n",
    "\n",
    "\n"
   ]
  },
  {
   "cell_type": "code",
   "execution_count": 8,
   "id": "0d4a7740",
   "metadata": {},
   "outputs": [
    {
     "name": "stdout",
     "output_type": "stream",
     "text": [
      "                                  commit_id                commit_time  \\\n",
      "0  cf2f21dd3ec7b14bbf7d597de7e4702d5902dde3  2021-11-14 11:50:19+02:00   \n",
      "1  2cde15029abd6751ce742fadd1bc5c51c7886633  2021-11-14 17:59:52+08:00   \n",
      "2  de0ece541c7fd885a32f1562342fe85535fc11f5  2021-11-14 19:49:19+00:00   \n",
      "3  991bb65ecc06a9e388f411f5a3f9a8737844ea70  2021-11-14 16:12:47-08:00   \n",
      "4  5eb584d1cb6917f26346db75e9c3df318e495b04  2021-11-14 19:54:47-08:00   \n",
      "\n",
      "      committer_id  changed_files  changed_LOC  \n",
      "0  Artyom Lukianov              1            4  \n",
      "1          Haleygo              2           68  \n",
      "2      Odin Ugedal              3           28  \n",
      "3           GitHub              0           14  \n",
      "4           GitHub              3           33  \n",
      "<class 'pandas.core.frame.DataFrame'>\n",
      "RangeIndex: 14771 entries, 0 to 14770\n",
      "Data columns (total 5 columns):\n",
      " #   Column         Non-Null Count  Dtype \n",
      "---  ------         --------------  ----- \n",
      " 0   commit_id      14771 non-null  object\n",
      " 1   commit_time    14771 non-null  object\n",
      " 2   committer_id   14771 non-null  object\n",
      " 3   changed_files  14771 non-null  int64 \n",
      " 4   changed_LOC    14771 non-null  int64 \n",
      "dtypes: int64(2), object(3)\n",
      "memory usage: 577.1+ KB\n",
      "None\n",
      "       changed_files    changed_LOC\n",
      "count   14771.000000   14771.000000\n",
      "mean        4.517704     824.110690\n",
      "std        33.449152    9135.689196\n",
      "min         0.000000       0.000000\n",
      "25%         0.000000       8.000000\n",
      "50%         1.000000      38.000000\n",
      "75%         2.000000     159.500000\n",
      "max      2934.000000  435273.000000\n"
     ]
    }
   ],
   "source": [
    "print(df.head())  # Display the first few rows\n",
    "print(df.info())  # Display information about the dataset\n",
    "print(df.describe())  # Summary statistics"
   ]
  },
  {
   "cell_type": "code",
   "execution_count": 9,
   "id": "023150ae",
   "metadata": {},
   "outputs": [],
   "source": [
    "df = df.drop_duplicates()\n"
   ]
  },
  {
   "cell_type": "code",
   "execution_count": 10,
   "id": "aaf15e08",
   "metadata": {},
   "outputs": [
    {
     "name": "stdout",
     "output_type": "stream",
     "text": [
      "                                  commit_id                commit_time  \\\n",
      "0  cf2f21dd3ec7b14bbf7d597de7e4702d5902dde3  2021-11-14 11:50:19+02:00   \n",
      "1  2cde15029abd6751ce742fadd1bc5c51c7886633  2021-11-14 17:59:52+08:00   \n",
      "2  de0ece541c7fd885a32f1562342fe85535fc11f5  2021-11-14 19:49:19+00:00   \n",
      "3  991bb65ecc06a9e388f411f5a3f9a8737844ea70  2021-11-14 16:12:47-08:00   \n",
      "4  5eb584d1cb6917f26346db75e9c3df318e495b04  2021-11-14 19:54:47-08:00   \n",
      "\n",
      "      committer_id  changed_files  changed_LOC  \n",
      "0  Artyom Lukianov              1            4  \n",
      "1          Haleygo              2           68  \n",
      "2      Odin Ugedal              3           28  \n",
      "3           GitHub              0           14  \n",
      "4           GitHub              3           33  \n",
      "<class 'pandas.core.frame.DataFrame'>\n",
      "Int64Index: 14771 entries, 0 to 14770\n",
      "Data columns (total 5 columns):\n",
      " #   Column         Non-Null Count  Dtype \n",
      "---  ------         --------------  ----- \n",
      " 0   commit_id      14771 non-null  object\n",
      " 1   commit_time    14771 non-null  object\n",
      " 2   committer_id   14771 non-null  object\n",
      " 3   changed_files  14771 non-null  int64 \n",
      " 4   changed_LOC    14771 non-null  int64 \n",
      "dtypes: int64(2), object(3)\n",
      "memory usage: 692.4+ KB\n",
      "None\n",
      "       changed_files    changed_LOC\n",
      "count   14771.000000   14771.000000\n",
      "mean        4.517704     824.110690\n",
      "std        33.449152    9135.689196\n",
      "min         0.000000       0.000000\n",
      "25%         0.000000       8.000000\n",
      "50%         1.000000      38.000000\n",
      "75%         2.000000     159.500000\n",
      "max      2934.000000  435273.000000\n"
     ]
    }
   ],
   "source": [
    "print(df.head())  # Display the first few rows\n",
    "print(df.info())  # Display information about the dataset\n",
    "print(df.describe())  # Summary statistics"
   ]
  },
  {
   "cell_type": "code",
   "execution_count": null,
   "id": "805fb004",
   "metadata": {},
   "outputs": [],
   "source": []
  }
 ],
 "metadata": {
  "kernelspec": {
   "display_name": "Python 3 (ipykernel)",
   "language": "python",
   "name": "python3"
  },
  "language_info": {
   "codemirror_mode": {
    "name": "ipython",
    "version": 3
   },
   "file_extension": ".py",
   "mimetype": "text/x-python",
   "name": "python",
   "nbconvert_exporter": "python",
   "pygments_lexer": "ipython3",
   "version": "3.9.13"
  }
 },
 "nbformat": 4,
 "nbformat_minor": 5
}
