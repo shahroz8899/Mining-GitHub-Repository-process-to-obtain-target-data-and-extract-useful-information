{
  "nbformat": 4,
  "nbformat_minor": 0,
  "metadata": {
    "colab": {
      "provenance": []
    },
    "kernelspec": {
      "name": "python3",
      "display_name": "Python 3"
    },
    "language_info": {
      "name": "python"
    }
  },
  "cells": [
    {
      "cell_type": "code",
      "execution_count": null,
      "metadata": {
        "colab": {
          "base_uri": "https://localhost:8080/"
        },
        "id": "9MNIdFAM31Is",
        "outputId": "c8c965cb-60a8-468f-ff59-9fdc404273e1"
      },
      "outputs": [
        {
          "output_type": "stream",
          "name": "stdout",
          "text": [
            "Drive already mounted at /content/drive; to attempt to forcibly remount, call drive.mount(\"/content/drive\", force_remount=True).\n"
          ]
        }
      ],
      "source": [
        "from google.colab import drive\n",
        "drive.mount('/content/drive')"
      ]
    },
    {
      "cell_type": "code",
      "source": [
        "pip install pydriller"
      ],
      "metadata": {
        "colab": {
          "base_uri": "https://localhost:8080/"
        },
        "id": "tTRqvNEG5MEq",
        "outputId": "ca16bd14-44bf-4908-810b-861f7ee98cff"
      },
      "execution_count": null,
      "outputs": [
        {
          "output_type": "stream",
          "name": "stdout",
          "text": [
            "Collecting pydriller\n",
            "  Downloading PyDriller-2.5.1-py3-none-any.whl (33 kB)\n",
            "Collecting gitpython (from pydriller)\n",
            "  Downloading GitPython-3.1.40-py3-none-any.whl (190 kB)\n",
            "\u001b[2K     \u001b[90m━━━━━━━━━━━━━━━━━━━━━━━━━━━━━━━━━━━━━━━━\u001b[0m \u001b[32m190.6/190.6 kB\u001b[0m \u001b[31m8.9 MB/s\u001b[0m eta \u001b[36m0:00:00\u001b[0m\n",
            "\u001b[?25hRequirement already satisfied: pytz in /usr/local/lib/python3.10/dist-packages (from pydriller) (2023.3.post1)\n",
            "Requirement already satisfied: types-pytz in /usr/local/lib/python3.10/dist-packages (from pydriller) (2023.3.1.1)\n",
            "Collecting lizard (from pydriller)\n",
            "  Downloading lizard-1.17.10-py2.py3-none-any.whl (66 kB)\n",
            "\u001b[2K     \u001b[90m━━━━━━━━━━━━━━━━━━━━━━━━━━━━━━━━━━━━━━━━\u001b[0m \u001b[32m66.0/66.0 kB\u001b[0m \u001b[31m10.3 MB/s\u001b[0m eta \u001b[36m0:00:00\u001b[0m\n",
            "\u001b[?25hCollecting gitdb<5,>=4.0.1 (from gitpython->pydriller)\n",
            "  Downloading gitdb-4.0.11-py3-none-any.whl (62 kB)\n",
            "\u001b[2K     \u001b[90m━━━━━━━━━━━━━━━━━━━━━━━━━━━━━━━━━━━━━━━━\u001b[0m \u001b[32m62.7/62.7 kB\u001b[0m \u001b[31m8.6 MB/s\u001b[0m eta \u001b[36m0:00:00\u001b[0m\n",
            "\u001b[?25hCollecting smmap<6,>=3.0.1 (from gitdb<5,>=4.0.1->gitpython->pydriller)\n",
            "  Downloading smmap-5.0.1-py3-none-any.whl (24 kB)\n",
            "Installing collected packages: lizard, smmap, gitdb, gitpython, pydriller\n",
            "Successfully installed gitdb-4.0.11 gitpython-3.1.40 lizard-1.17.10 pydriller-2.5.1 smmap-5.0.1\n"
          ]
        }
      ]
    },
    {
      "cell_type": "code",
      "source": [
        "from pydriller import Repository\n",
        "import pandas as pd\n",
        "import csv\n",
        "from datetime import datetime, timedelta\n",
        "\n",
        "# Specify the local path to your cloned repository\n",
        "repository_path = '/content/drive/MyDrive/New folder/kubernetes'\n",
        "\n",
        "# Set the start date as the current date minus 24 months\n",
        "start_date = datetime.now() - timedelta(days=1 * 365 / 12)\n",
        "\n",
        "# Initialize an empty list to store commit and issue data\n",
        "commit_data = []\n",
        "issue_data = []\n",
        "\n",
        "# Use PyDriller to analyze the local repository for commits within the last 24 months\n",
        "for commit in Repository(repository_path, since=start_date).traverse_commits():\n",
        "    commit_info = {\n",
        "        'commit_id': commit.hash,\n",
        "        'commit_time': commit.committer_date,\n",
        "        'committer_id': commit.committer.name,\n",
        "        'changed_files': len(commit.modified_files),\n",
        "        'changed_LOC': commit.lines\n",
        "    }\n",
        "    commit_data.append(commit_info)\n",
        "\n",
        "# Use PyDriller to analyze the local repository's issues within the last 24 months\n",
        "for issue in Repository(repository_path, only_issues=True, since=start_date).traverse_issues():\n",
        "    issue_info = {\n",
        "        'issue_content': issue.msg,\n",
        "        'issue_type': issue.issue_type,\n",
        "        'issue_status': issue.status,\n",
        "        'issue_open_time': issue.created_date,\n",
        "        'issue_close_time': issue.closed_date,\n",
        "        'issue_creator': issue.author.name,\n",
        "        'issue_closer': issue.closer.name if issue.closer is not None else ''\n",
        "    }\n",
        "    issue_data.append(issue_info)\n",
        "\n",
        "# Create Pandas DataFrames from the commit and issue data\n",
        "commit_df = pd.DataFrame(commit_data)\n",
        "issue_df = pd.DataFrame(issue_data)\n",
        "\n",
        "# Save commit and issue data to CSV files\n",
        "commit_df.to_csv('kubernetes_commits.csv', index=False)\n",
        "issue_df.to_csv('kubernetes_issues.csv', index=False)\n"
      ],
      "metadata": {
        "colab": {
          "base_uri": "https://localhost:8080/",
          "height": 245
        },
        "id": "-ZoUQeSf-e8r",
        "outputId": "a34c504a-6bdc-4296-b3a6-df9237180238"
      },
      "execution_count": null,
      "outputs": [
        {
          "output_type": "error",
          "ename": "TypeError",
          "evalue": "ignored",
          "traceback": [
            "\u001b[0;31m---------------------------------------------------------------------------\u001b[0m",
            "\u001b[0;31mTypeError\u001b[0m                                 Traceback (most recent call last)",
            "\u001b[0;32m<ipython-input-1-34b046c494f0>\u001b[0m in \u001b[0;36m<cell line: 28>\u001b[0;34m()\u001b[0m\n\u001b[1;32m     26\u001b[0m \u001b[0;34m\u001b[0m\u001b[0m\n\u001b[1;32m     27\u001b[0m \u001b[0;31m# Use PyDriller to analyze the local repository's issues within the last 24 months\u001b[0m\u001b[0;34m\u001b[0m\u001b[0;34m\u001b[0m\u001b[0m\n\u001b[0;32m---> 28\u001b[0;31m \u001b[0;32mfor\u001b[0m \u001b[0missue\u001b[0m \u001b[0;32min\u001b[0m \u001b[0mRepository\u001b[0m\u001b[0;34m(\u001b[0m\u001b[0mrepository_path\u001b[0m\u001b[0;34m,\u001b[0m \u001b[0monly_issues\u001b[0m\u001b[0;34m=\u001b[0m\u001b[0;32mTrue\u001b[0m\u001b[0;34m,\u001b[0m \u001b[0msince\u001b[0m\u001b[0;34m=\u001b[0m\u001b[0mstart_date\u001b[0m\u001b[0;34m)\u001b[0m\u001b[0;34m.\u001b[0m\u001b[0mtraverse_issues\u001b[0m\u001b[0;34m(\u001b[0m\u001b[0;34m)\u001b[0m\u001b[0;34m:\u001b[0m\u001b[0;34m\u001b[0m\u001b[0;34m\u001b[0m\u001b[0m\n\u001b[0m\u001b[1;32m     29\u001b[0m     issue_info = {\n\u001b[1;32m     30\u001b[0m         \u001b[0;34m'issue_content'\u001b[0m\u001b[0;34m:\u001b[0m \u001b[0missue\u001b[0m\u001b[0;34m.\u001b[0m\u001b[0mmsg\u001b[0m\u001b[0;34m,\u001b[0m\u001b[0;34m\u001b[0m\u001b[0;34m\u001b[0m\u001b[0m\n",
            "\u001b[0;31mTypeError\u001b[0m: Repository.__init__() got an unexpected keyword argument 'only_issues'"
          ]
        }
      ]
    },
    {
      "cell_type": "code",
      "source": [
        "pip install pydriller --upgrade\n"
      ],
      "metadata": {
        "colab": {
          "base_uri": "https://localhost:8080/"
        },
        "id": "0KoK70M3CPI1",
        "outputId": "86e63cfe-4e4c-4cf3-971c-275bc166e429"
      },
      "execution_count": null,
      "outputs": [
        {
          "output_type": "stream",
          "name": "stdout",
          "text": [
            "Requirement already satisfied: pydriller in /usr/local/lib/python3.10/dist-packages (2.5.1)\n",
            "Requirement already satisfied: gitpython in /usr/local/lib/python3.10/dist-packages (from pydriller) (3.1.40)\n",
            "Requirement already satisfied: pytz in /usr/local/lib/python3.10/dist-packages (from pydriller) (2023.3.post1)\n",
            "Requirement already satisfied: types-pytz in /usr/local/lib/python3.10/dist-packages (from pydriller) (2023.3.1.1)\n",
            "Requirement already satisfied: lizard in /usr/local/lib/python3.10/dist-packages (from pydriller) (1.17.10)\n",
            "Requirement already satisfied: gitdb<5,>=4.0.1 in /usr/local/lib/python3.10/dist-packages (from gitpython->pydriller) (4.0.11)\n",
            "Requirement already satisfied: smmap<6,>=3.0.1 in /usr/local/lib/python3.10/dist-packages (from gitdb<5,>=4.0.1->gitpython->pydriller) (5.0.1)\n"
          ]
        }
      ]
    },
    {
      "cell_type": "code",
      "source": [
        "from pydriller import Repository\n",
        "import pandas as pd\n",
        "from datetime import datetime, timedelta\n",
        "\n",
        "# Specify the local path to your cloned repository\n",
        "repository_path = '/content/drive/MyDrive/New folder/kubernetes'\n",
        "\n",
        "# Set the start date as the current date minus 24 months\n",
        "start_date = datetime.now() - timedelta(days=1 * 365 / 12)\n",
        "\n",
        "# Initialize an empty list to store commit and issue data\n",
        "commit_data = []\n",
        "issue_data = []\n",
        "\n",
        "# Use PyDriller to analyze the local repository for commits within the last 24 months\n",
        "for commit in Repository(repository_path, since=start_date).traverse_commits():\n",
        "    commit_info = {\n",
        "        'commit_id': commit.hash,\n",
        "        'commit_time': commit.committer_date,\n",
        "        'committer_id': commit.committer.name,\n",
        "        'changed_files': len(commit.modified_files),\n",
        "        'changed_LOC': commit.lines\n",
        "    }\n",
        "    commit_data.append(commit_info)\n",
        "\n",
        "    # Check if the commit has modifications and extract issue information\n",
        "    for modification in commit.modifications:\n",
        "        if modification.issue_ids:\n",
        "            for issue_id in modification.issue_ids:\n",
        "                issue_info = {\n",
        "                    'issue_content': modification.issue.message,\n",
        "                    'issue_type': modification.issue.type,\n",
        "                    'issue_status': modification.issue.status,\n",
        "                    'issue_open_time': modification.issue.created_at,\n",
        "                    'issue_close_time': modification.issue.closed_at,\n",
        "                    'issue_creator': modification.issue.author.name,\n",
        "                    'issue_closer': modification.issue.closed_by.name if modification.issue.closed_by else ''\n",
        "                }\n",
        "                issue_data.append(issue_info)\n",
        "\n",
        "# Create Pandas DataFrames from the commit and issue data\n",
        "commit_df = pd.DataFrame(commit_data)\n",
        "issue_df = pd.DataFrame(issue_data)\n",
        "\n",
        "# Save commit and issue data to CSV files\n",
        "commit_df.to_csv('kubernetes_commits.csv', index=False)\n",
        "issue_df.to_csv('kubernetes_issues.csv', index=False)\n"
      ],
      "metadata": {
        "colab": {
          "base_uri": "https://localhost:8080/",
          "height": 245
        },
        "id": "YVf8ayryD39i",
        "outputId": "28277d89-e15d-4dda-a66a-61686991ecc3"
      },
      "execution_count": null,
      "outputs": [
        {
          "output_type": "error",
          "ename": "AttributeError",
          "evalue": "ignored",
          "traceback": [
            "\u001b[0;31m---------------------------------------------------------------------------\u001b[0m",
            "\u001b[0;31mAttributeError\u001b[0m                            Traceback (most recent call last)",
            "\u001b[0;32m<ipython-input-5-800b75877b88>\u001b[0m in \u001b[0;36m<cell line: 16>\u001b[0;34m()\u001b[0m\n\u001b[1;32m     25\u001b[0m \u001b[0;34m\u001b[0m\u001b[0m\n\u001b[1;32m     26\u001b[0m     \u001b[0;31m# Check if the commit has modifications and extract issue information\u001b[0m\u001b[0;34m\u001b[0m\u001b[0;34m\u001b[0m\u001b[0m\n\u001b[0;32m---> 27\u001b[0;31m     \u001b[0;32mfor\u001b[0m \u001b[0mmodification\u001b[0m \u001b[0;32min\u001b[0m \u001b[0mcommit\u001b[0m\u001b[0;34m.\u001b[0m\u001b[0mmodifications\u001b[0m\u001b[0;34m:\u001b[0m\u001b[0;34m\u001b[0m\u001b[0;34m\u001b[0m\u001b[0m\n\u001b[0m\u001b[1;32m     28\u001b[0m         \u001b[0;32mif\u001b[0m \u001b[0mmodification\u001b[0m\u001b[0;34m.\u001b[0m\u001b[0missue_ids\u001b[0m\u001b[0;34m:\u001b[0m\u001b[0;34m\u001b[0m\u001b[0;34m\u001b[0m\u001b[0m\n\u001b[1;32m     29\u001b[0m             \u001b[0;32mfor\u001b[0m \u001b[0missue_id\u001b[0m \u001b[0;32min\u001b[0m \u001b[0mmodification\u001b[0m\u001b[0;34m.\u001b[0m\u001b[0missue_ids\u001b[0m\u001b[0;34m:\u001b[0m\u001b[0;34m\u001b[0m\u001b[0;34m\u001b[0m\u001b[0m\n",
            "\u001b[0;31mAttributeError\u001b[0m: 'Commit' object has no attribute 'modifications'"
          ]
        }
      ]
    },
    {
      "cell_type": "code",
      "source": [
        "from pydriller import RepositoryMining\n",
        "import pandas as pd\n",
        "from datetime import datetime, timedelta\n",
        "\n",
        "# Specify the local path to your cloned repository\n",
        "repository_path = '/content/drive/MyDrive/New folder/kubernetes'\n",
        "\n",
        "# Set the start date as the current date minus 24 months\n",
        "start_date = datetime.now() - timedelta(days=1 * 365 / 12)\n",
        "\n",
        "# Initialize an empty list to store commit and issue data\n",
        "commit_data = []\n",
        "issue_data = []\n",
        "\n",
        "# Use PyDriller to analyze the local repository for commits within the last 24 months\n",
        "for commit in RepositoryMining(repository_path, since=start_date).traverse_commits():\n",
        "    commit_info = {\n",
        "        'commit_id': commit.hash,\n",
        "        'commit_time': commit.committer_date,\n",
        "        'committer_id': commit.committer.name,\n",
        "        'changed_files': len(commit.modified_files),\n",
        "        'changed_LOC': commit.lines\n",
        "    }\n",
        "    commit_data.append(commit_info)\n",
        "\n",
        "    # Check if the commit has modifications and extract issue information\n",
        "    for modification in commit.modifications:\n",
        "        if modification.issue_ids:\n",
        "            for issue_id in modification.issue_ids:\n",
        "                issue_info = {\n",
        "                    'issue_content': modification.issue.message,\n",
        "                    'issue_type': modification.issue.type,\n",
        "                    'issue_status': modification.issue.status,\n",
        "                    'issue_open_time': modification.issue.created_at,\n",
        "                    'issue_close_time': modification.issue.closed_at,\n",
        "                    'issue_creator': modification.issue.author.name,\n",
        "                    'issue_closer': modification.issue.closed_by.name if modification.issue.closed_by else ''\n",
        "                }\n",
        "                issue_data.append(issue_info)\n",
        "\n",
        "# Create Pandas DataFrames from the commit and issue data\n",
        "commit_df = pd.DataFrame(commit_data)\n",
        "issue_df = pd.DataFrame(issue_data)\n",
        "\n",
        "# Save commit and issue data to CSV files\n",
        "commit_df.to_csv('kubernetes_commits.csv', index=False)\n",
        "issue_df.to_csv('kubernetes_issues.csv', index=False)\n"
      ],
      "metadata": {
        "colab": {
          "base_uri": "https://localhost:8080/",
          "height": 383
        },
        "id": "8gAuL_cHETXN",
        "outputId": "0818f740-80a8-4605-e304-f2e8ecbbd92c"
      },
      "execution_count": null,
      "outputs": [
        {
          "output_type": "error",
          "ename": "ImportError",
          "evalue": "ignored",
          "traceback": [
            "\u001b[0;31m---------------------------------------------------------------------------\u001b[0m",
            "\u001b[0;31mImportError\u001b[0m                               Traceback (most recent call last)",
            "\u001b[0;32m<ipython-input-6-ed6dd5ed002f>\u001b[0m in \u001b[0;36m<cell line: 1>\u001b[0;34m()\u001b[0m\n\u001b[0;32m----> 1\u001b[0;31m \u001b[0;32mfrom\u001b[0m \u001b[0mpydriller\u001b[0m \u001b[0;32mimport\u001b[0m \u001b[0mRepositoryMining\u001b[0m\u001b[0;34m\u001b[0m\u001b[0;34m\u001b[0m\u001b[0m\n\u001b[0m\u001b[1;32m      2\u001b[0m \u001b[0;32mimport\u001b[0m \u001b[0mpandas\u001b[0m \u001b[0;32mas\u001b[0m \u001b[0mpd\u001b[0m\u001b[0;34m\u001b[0m\u001b[0;34m\u001b[0m\u001b[0m\n\u001b[1;32m      3\u001b[0m \u001b[0;32mfrom\u001b[0m \u001b[0mdatetime\u001b[0m \u001b[0;32mimport\u001b[0m \u001b[0mdatetime\u001b[0m\u001b[0;34m,\u001b[0m \u001b[0mtimedelta\u001b[0m\u001b[0;34m\u001b[0m\u001b[0;34m\u001b[0m\u001b[0m\n\u001b[1;32m      4\u001b[0m \u001b[0;34m\u001b[0m\u001b[0m\n\u001b[1;32m      5\u001b[0m \u001b[0;31m# Specify the local path to your cloned repository\u001b[0m\u001b[0;34m\u001b[0m\u001b[0;34m\u001b[0m\u001b[0m\n",
            "\u001b[0;31mImportError\u001b[0m: cannot import name 'RepositoryMining' from 'pydriller' (/usr/local/lib/python3.10/dist-packages/pydriller/__init__.py)",
            "",
            "\u001b[0;31m---------------------------------------------------------------------------\u001b[0;32m\nNOTE: If your import is failing due to a missing package, you can\nmanually install dependencies using either !pip or !apt.\n\nTo view examples of installing some common dependencies, click the\n\"Open Examples\" button below.\n\u001b[0;31m---------------------------------------------------------------------------\u001b[0m\n"
          ],
          "errorDetails": {
            "actions": [
              {
                "action": "open_url",
                "actionText": "Open Examples",
                "url": "/notebooks/snippets/importing_libraries.ipynb"
              }
            ]
          }
        }
      ]
    },
    {
      "cell_type": "code",
      "source": [
        "from pydriller import Repository\n",
        "import pandas as pd\n",
        "from datetime import datetime, timedelta\n",
        "\n",
        "# Specify the local path to your cloned repository\n",
        "repository_path = '/content/drive/MyDrive/New folder/kubernetes'\n",
        "\n",
        "# Set the start date as the current date minus 24 months\n",
        "start_date = datetime.now() - timedelta(days=1 * 365 / 12)\n",
        "\n",
        "# Initialize an empty list to store commit and issue data\n",
        "commit_data = []\n",
        "issue_data = []\n",
        "\n",
        "# Use PyDriller to analyze the local repository for commits within the last 24 months\n",
        "for commit in Repository(repository_path, since=start_date).traverse_commits():\n",
        "    commit_info = {\n",
        "        'commit_id': commit.hash,\n",
        "        'commit_time': commit.committer_date,\n",
        "        'committer_id': commit.committer.name,\n",
        "        'changed_files': len(commit.modified_files),\n",
        "        'changed_LOC': commit.lines\n",
        "    }\n",
        "    commit_data.append(commit_info)\n",
        "\n",
        "    # Check if the commit has issues mentioned in the commit message\n",
        "    if commit.issues:\n",
        "        for issue_id in commit.issues:\n",
        "            issue_info = {\n",
        "                'issue_content': issue_id.message,\n",
        "                'issue_type': issue_id.type,\n",
        "                'issue_status': issue_id.status,\n",
        "                'issue_open_time': issue_id.created_at,\n",
        "                'issue_close_time': issue_id.closed_at,\n",
        "                'issue_creator': issue_id.author.name,\n",
        "                'issue_closer': issue_id.closed_by.name if issue_id.closed_by else ''\n",
        "            }\n",
        "            issue_data.append(issue_info)\n",
        "\n",
        "# Create Pandas DataFrames from the commit and issue data\n",
        "commit_df = pd.DataFrame(commit_data)\n",
        "issue_df = pd.DataFrame(issue_data)\n",
        "\n",
        "# Save commit and issue data to CSV files\n",
        "commit_df.to_csv('kubernetes_commits.csv', index=False)\n",
        "issue_df.to_csv('kubernetes_issues.csv', index=False)\n"
      ],
      "metadata": {
        "colab": {
          "base_uri": "https://localhost:8080/",
          "height": 245
        },
        "id": "aGpdI3OyEqq4",
        "outputId": "78cf460d-f808-4eb0-8a3c-98d4403ccc43"
      },
      "execution_count": null,
      "outputs": [
        {
          "output_type": "error",
          "ename": "AttributeError",
          "evalue": "ignored",
          "traceback": [
            "\u001b[0;31m---------------------------------------------------------------------------\u001b[0m",
            "\u001b[0;31mAttributeError\u001b[0m                            Traceback (most recent call last)",
            "\u001b[0;32m<ipython-input-7-61dcfa0c97c2>\u001b[0m in \u001b[0;36m<cell line: 16>\u001b[0;34m()\u001b[0m\n\u001b[1;32m     25\u001b[0m \u001b[0;34m\u001b[0m\u001b[0m\n\u001b[1;32m     26\u001b[0m     \u001b[0;31m# Check if the commit has issues mentioned in the commit message\u001b[0m\u001b[0;34m\u001b[0m\u001b[0;34m\u001b[0m\u001b[0m\n\u001b[0;32m---> 27\u001b[0;31m     \u001b[0;32mif\u001b[0m \u001b[0mcommit\u001b[0m\u001b[0;34m.\u001b[0m\u001b[0missues\u001b[0m\u001b[0;34m:\u001b[0m\u001b[0;34m\u001b[0m\u001b[0;34m\u001b[0m\u001b[0m\n\u001b[0m\u001b[1;32m     28\u001b[0m         \u001b[0;32mfor\u001b[0m \u001b[0missue_id\u001b[0m \u001b[0;32min\u001b[0m \u001b[0mcommit\u001b[0m\u001b[0;34m.\u001b[0m\u001b[0missues\u001b[0m\u001b[0;34m:\u001b[0m\u001b[0;34m\u001b[0m\u001b[0;34m\u001b[0m\u001b[0m\n\u001b[1;32m     29\u001b[0m             issue_info = {\n",
            "\u001b[0;31mAttributeError\u001b[0m: 'Commit' object has no attribute 'issues'"
          ]
        }
      ]
    },
    {
      "cell_type": "code",
      "source": [
        "from pydriller import Repository\n",
        "import pandas as pd\n",
        "import re\n",
        "from datetime import datetime, timedelta\n",
        "\n",
        "# Specify the local path to your cloned repository\n",
        "repository_path = '/content/drive/MyDrive/New folder/kubernetes'\n",
        "\n",
        "# Set the start date as the current date minus 24 months\n",
        "start_date = datetime.now() - timedelta(days=1 * 365 / 12)\n",
        "\n",
        "# Initialize an empty list to store commit and issue data\n",
        "commit_data = []\n",
        "issue_data = []\n",
        "\n",
        "# Use PyDriller to analyze the local repository for commits within the last 24 months\n",
        "for commit in Repository(repository_path, since=start_date).traverse_commits():\n",
        "    commit_info = {\n",
        "        'commit_id': commit.hash,\n",
        "        'commit_time': commit.committer_date,\n",
        "        'committer_id': commit.committer.name,\n",
        "        'changed_files': len(commit.modified_files),\n",
        "        'changed_LOC': commit.lines\n",
        "    }\n",
        "    commit_data.append(commit_info)\n",
        "\n",
        "    # Check if the commit message contains issue references\n",
        "    issue_references = re.findall(r'#(\\d+)', commit.msg)\n",
        "    for issue_id in issue_references:\n",
        "        # You may need to fetch additional information about the issue using an issue tracker API\n",
        "        issue_info = {\n",
        "            'issue_id': issue_id,\n",
        "            'commit_id': commit.hash,\n",
        "            'commit_time': commit.committer_date,\n",
        "            'committer_id': commit.committer.name,\n",
        "        }\n",
        "        issue_data.append(issue_info)\n",
        "\n",
        "# Create Pandas DataFrames from the commit and issue data\n",
        "commit_df = pd.DataFrame(commit_data)\n",
        "issue_df = pd.DataFrame(issue_data)\n",
        "\n",
        "# Save commit and issue data to CSV files\n",
        "commit_df.to_csv('kubernetes_commits.csv', index=False)\n",
        "issue_df.to_csv('kubernetes_issues.csv', index=False)\n",
        "print ('hello kia haal ha')"
      ],
      "metadata": {
        "colab": {
          "base_uri": "https://localhost:8080/"
        },
        "id": "ls59XXyPE_Ew",
        "outputId": "04cb1b36-7ea5-4d83-f0ba-f066821fe619"
      },
      "execution_count": null,
      "outputs": [
        {
          "output_type": "stream",
          "name": "stdout",
          "text": [
            "hello kia haal ha\n"
          ]
        }
      ]
    },
    {
      "cell_type": "code",
      "source": [
        "import requests\n",
        "from pydriller import Repository\n",
        "import pandas as pd\n",
        "from datetime import datetime, timedelta\n",
        "import re\n",
        "\n",
        "# Specify the GitHub repository URL for Kubernetes\n",
        "repository_url = '/content/drive/MyDrive/New folder/kubernetes'\n",
        "\n",
        "# GitHub API endpoint for issues\n",
        "issues_api_url = f'{repository_url}/issues'\n",
        "\n",
        "# Set the start date as the current date minus 24 months\n",
        "start_date = datetime.now() - timedelta(days=1 * 365 / 12)\n",
        "\n",
        "# Initialize an empty list to store commit and issue data\n",
        "commit_data = []\n",
        "issue_data = []\n",
        "\n",
        "# Use PyDriller to analyze the Kubernetes repository for commits within the last 24 months\n",
        "for commit in Repository(repository_url, since=start_date).traverse_commits():\n",
        "    commit_info = {\n",
        "        'commit_id': commit.hash,\n",
        "        'commit_time': commit.committer_date,\n",
        "        'committer_id': commit.committer.name,\n",
        "        'changed_files': len(commit.modified_files),\n",
        "        'changed_LOC': commit.lines\n",
        "    }\n",
        "    commit_data.append(commit_info)\n",
        "\n",
        "    # Check if the commit message contains issue references\n",
        "    issue_references = re.findall(r'#(\\d+)', commit.msg)\n",
        "    for issue_id in issue_references:\n",
        "        # Fetch additional information about the issue using GitHub API\n",
        "        issue_url = f'{issues_api_url}/{issue_id}'\n",
        "        issue_response = requests.get(issue_url)\n",
        "        if issue_response.status_code == 200:\n",
        "            issue_info = {\n",
        "                'issue_id': issue_id,\n",
        "                'commit_id': commit.hash,\n",
        "                'commit_time': commit.committer_date,\n",
        "                'committer_id': commit.committer.name,\n",
        "                'issue_content': issue_response.json().get('title', ''),\n",
        "                'issue_type': issue_response.json().get('labels', [])[0]['name'] if issue_response.json().get('labels') else '',\n",
        "                'issue_status': issue_response.json().get('state', ''),\n",
        "                'issue_open_time': issue_response.json().get('created_at', ''),\n",
        "                'issue_close_time': issue_response.json().get('closed_at', ''),\n",
        "                'issue_creator': issue_response.json().get('user', {}).get('login', ''),\n",
        "                'issue_closer': issue_response.json().get('closed_by', {}).get('login', '') if issue_response.json().get('closed_by') else ''\n",
        "            }\n",
        "            issue_data.append(issue_info)\n",
        "\n",
        "# Create Pandas DataFrames from the commit and issue data\n",
        "commit_df = pd.DataFrame(commit_data)\n",
        "issue_df = pd.DataFrame(issue_data)\n",
        "\n",
        "# Clean the data (if needed)\n",
        "# Add your cleaning operations here\n",
        "\n",
        "# Save commit and issue data to CSV files\n",
        "commit_df.to_csv('kubernetes_commits.csv', index=False)\n",
        "issue_df.to_csv('kubernetes_issues.csv', index=False)\n"
      ],
      "metadata": {
        "colab": {
          "base_uri": "https://localhost:8080/",
          "height": 407
        },
        "id": "axGOGAR-MZnN",
        "outputId": "7ab23b97-d7d3-48c5-eaad-0eddc42bdb59"
      },
      "execution_count": null,
      "outputs": [
        {
          "output_type": "error",
          "ename": "MissingSchema",
          "evalue": "ignored",
          "traceback": [
            "\u001b[0;31m---------------------------------------------------------------------------\u001b[0m",
            "\u001b[0;31mMissingSchema\u001b[0m                             Traceback (most recent call last)",
            "\u001b[0;32m<ipython-input-12-d66c9b3ab988>\u001b[0m in \u001b[0;36m<cell line: 21>\u001b[0;34m()\u001b[0m\n\u001b[1;32m     34\u001b[0m         \u001b[0;31m# Fetch additional information about the issue using GitHub API\u001b[0m\u001b[0;34m\u001b[0m\u001b[0;34m\u001b[0m\u001b[0m\n\u001b[1;32m     35\u001b[0m         \u001b[0missue_url\u001b[0m \u001b[0;34m=\u001b[0m \u001b[0;34mf'{issues_api_url}/{issue_id}'\u001b[0m\u001b[0;34m\u001b[0m\u001b[0;34m\u001b[0m\u001b[0m\n\u001b[0;32m---> 36\u001b[0;31m         \u001b[0missue_response\u001b[0m \u001b[0;34m=\u001b[0m \u001b[0mrequests\u001b[0m\u001b[0;34m.\u001b[0m\u001b[0mget\u001b[0m\u001b[0;34m(\u001b[0m\u001b[0missue_url\u001b[0m\u001b[0;34m)\u001b[0m\u001b[0;34m\u001b[0m\u001b[0;34m\u001b[0m\u001b[0m\n\u001b[0m\u001b[1;32m     37\u001b[0m         \u001b[0;32mif\u001b[0m \u001b[0missue_response\u001b[0m\u001b[0;34m.\u001b[0m\u001b[0mstatus_code\u001b[0m \u001b[0;34m==\u001b[0m \u001b[0;36m200\u001b[0m\u001b[0;34m:\u001b[0m\u001b[0;34m\u001b[0m\u001b[0;34m\u001b[0m\u001b[0m\n\u001b[1;32m     38\u001b[0m             issue_info = {\n",
            "\u001b[0;32m/usr/local/lib/python3.10/dist-packages/requests/api.py\u001b[0m in \u001b[0;36mget\u001b[0;34m(url, params, **kwargs)\u001b[0m\n\u001b[1;32m     71\u001b[0m     \"\"\"\n\u001b[1;32m     72\u001b[0m \u001b[0;34m\u001b[0m\u001b[0m\n\u001b[0;32m---> 73\u001b[0;31m     \u001b[0;32mreturn\u001b[0m \u001b[0mrequest\u001b[0m\u001b[0;34m(\u001b[0m\u001b[0;34m\"get\"\u001b[0m\u001b[0;34m,\u001b[0m \u001b[0murl\u001b[0m\u001b[0;34m,\u001b[0m \u001b[0mparams\u001b[0m\u001b[0;34m=\u001b[0m\u001b[0mparams\u001b[0m\u001b[0;34m,\u001b[0m \u001b[0;34m**\u001b[0m\u001b[0mkwargs\u001b[0m\u001b[0;34m)\u001b[0m\u001b[0;34m\u001b[0m\u001b[0;34m\u001b[0m\u001b[0m\n\u001b[0m\u001b[1;32m     74\u001b[0m \u001b[0;34m\u001b[0m\u001b[0m\n\u001b[1;32m     75\u001b[0m \u001b[0;34m\u001b[0m\u001b[0m\n",
            "\u001b[0;32m/usr/local/lib/python3.10/dist-packages/requests/api.py\u001b[0m in \u001b[0;36mrequest\u001b[0;34m(method, url, **kwargs)\u001b[0m\n\u001b[1;32m     57\u001b[0m     \u001b[0;31m# cases, and look like a memory leak in others.\u001b[0m\u001b[0;34m\u001b[0m\u001b[0;34m\u001b[0m\u001b[0m\n\u001b[1;32m     58\u001b[0m     \u001b[0;32mwith\u001b[0m \u001b[0msessions\u001b[0m\u001b[0;34m.\u001b[0m\u001b[0mSession\u001b[0m\u001b[0;34m(\u001b[0m\u001b[0;34m)\u001b[0m \u001b[0;32mas\u001b[0m \u001b[0msession\u001b[0m\u001b[0;34m:\u001b[0m\u001b[0;34m\u001b[0m\u001b[0;34m\u001b[0m\u001b[0m\n\u001b[0;32m---> 59\u001b[0;31m         \u001b[0;32mreturn\u001b[0m \u001b[0msession\u001b[0m\u001b[0;34m.\u001b[0m\u001b[0mrequest\u001b[0m\u001b[0;34m(\u001b[0m\u001b[0mmethod\u001b[0m\u001b[0;34m=\u001b[0m\u001b[0mmethod\u001b[0m\u001b[0;34m,\u001b[0m \u001b[0murl\u001b[0m\u001b[0;34m=\u001b[0m\u001b[0murl\u001b[0m\u001b[0;34m,\u001b[0m \u001b[0;34m**\u001b[0m\u001b[0mkwargs\u001b[0m\u001b[0;34m)\u001b[0m\u001b[0;34m\u001b[0m\u001b[0;34m\u001b[0m\u001b[0m\n\u001b[0m\u001b[1;32m     60\u001b[0m \u001b[0;34m\u001b[0m\u001b[0m\n\u001b[1;32m     61\u001b[0m \u001b[0;34m\u001b[0m\u001b[0m\n",
            "\u001b[0;32m/usr/local/lib/python3.10/dist-packages/requests/sessions.py\u001b[0m in \u001b[0;36mrequest\u001b[0;34m(self, method, url, params, data, headers, cookies, files, auth, timeout, allow_redirects, proxies, hooks, stream, verify, cert, json)\u001b[0m\n\u001b[1;32m    573\u001b[0m             \u001b[0mhooks\u001b[0m\u001b[0;34m=\u001b[0m\u001b[0mhooks\u001b[0m\u001b[0;34m,\u001b[0m\u001b[0;34m\u001b[0m\u001b[0;34m\u001b[0m\u001b[0m\n\u001b[1;32m    574\u001b[0m         )\n\u001b[0;32m--> 575\u001b[0;31m         \u001b[0mprep\u001b[0m \u001b[0;34m=\u001b[0m \u001b[0mself\u001b[0m\u001b[0;34m.\u001b[0m\u001b[0mprepare_request\u001b[0m\u001b[0;34m(\u001b[0m\u001b[0mreq\u001b[0m\u001b[0;34m)\u001b[0m\u001b[0;34m\u001b[0m\u001b[0;34m\u001b[0m\u001b[0m\n\u001b[0m\u001b[1;32m    576\u001b[0m \u001b[0;34m\u001b[0m\u001b[0m\n\u001b[1;32m    577\u001b[0m         \u001b[0mproxies\u001b[0m \u001b[0;34m=\u001b[0m \u001b[0mproxies\u001b[0m \u001b[0;32mor\u001b[0m \u001b[0;34m{\u001b[0m\u001b[0;34m}\u001b[0m\u001b[0;34m\u001b[0m\u001b[0;34m\u001b[0m\u001b[0m\n",
            "\u001b[0;32m/usr/local/lib/python3.10/dist-packages/requests/sessions.py\u001b[0m in \u001b[0;36mprepare_request\u001b[0;34m(self, request)\u001b[0m\n\u001b[1;32m    484\u001b[0m \u001b[0;34m\u001b[0m\u001b[0m\n\u001b[1;32m    485\u001b[0m         \u001b[0mp\u001b[0m \u001b[0;34m=\u001b[0m \u001b[0mPreparedRequest\u001b[0m\u001b[0;34m(\u001b[0m\u001b[0;34m)\u001b[0m\u001b[0;34m\u001b[0m\u001b[0;34m\u001b[0m\u001b[0m\n\u001b[0;32m--> 486\u001b[0;31m         p.prepare(\n\u001b[0m\u001b[1;32m    487\u001b[0m             \u001b[0mmethod\u001b[0m\u001b[0;34m=\u001b[0m\u001b[0mrequest\u001b[0m\u001b[0;34m.\u001b[0m\u001b[0mmethod\u001b[0m\u001b[0;34m.\u001b[0m\u001b[0mupper\u001b[0m\u001b[0;34m(\u001b[0m\u001b[0;34m)\u001b[0m\u001b[0;34m,\u001b[0m\u001b[0;34m\u001b[0m\u001b[0;34m\u001b[0m\u001b[0m\n\u001b[1;32m    488\u001b[0m             \u001b[0murl\u001b[0m\u001b[0;34m=\u001b[0m\u001b[0mrequest\u001b[0m\u001b[0;34m.\u001b[0m\u001b[0murl\u001b[0m\u001b[0;34m,\u001b[0m\u001b[0;34m\u001b[0m\u001b[0;34m\u001b[0m\u001b[0m\n",
            "\u001b[0;32m/usr/local/lib/python3.10/dist-packages/requests/models.py\u001b[0m in \u001b[0;36mprepare\u001b[0;34m(self, method, url, headers, files, data, params, auth, cookies, hooks, json)\u001b[0m\n\u001b[1;32m    366\u001b[0m \u001b[0;34m\u001b[0m\u001b[0m\n\u001b[1;32m    367\u001b[0m         \u001b[0mself\u001b[0m\u001b[0;34m.\u001b[0m\u001b[0mprepare_method\u001b[0m\u001b[0;34m(\u001b[0m\u001b[0mmethod\u001b[0m\u001b[0;34m)\u001b[0m\u001b[0;34m\u001b[0m\u001b[0;34m\u001b[0m\u001b[0m\n\u001b[0;32m--> 368\u001b[0;31m         \u001b[0mself\u001b[0m\u001b[0;34m.\u001b[0m\u001b[0mprepare_url\u001b[0m\u001b[0;34m(\u001b[0m\u001b[0murl\u001b[0m\u001b[0;34m,\u001b[0m \u001b[0mparams\u001b[0m\u001b[0;34m)\u001b[0m\u001b[0;34m\u001b[0m\u001b[0;34m\u001b[0m\u001b[0m\n\u001b[0m\u001b[1;32m    369\u001b[0m         \u001b[0mself\u001b[0m\u001b[0;34m.\u001b[0m\u001b[0mprepare_headers\u001b[0m\u001b[0;34m(\u001b[0m\u001b[0mheaders\u001b[0m\u001b[0;34m)\u001b[0m\u001b[0;34m\u001b[0m\u001b[0;34m\u001b[0m\u001b[0m\n\u001b[1;32m    370\u001b[0m         \u001b[0mself\u001b[0m\u001b[0;34m.\u001b[0m\u001b[0mprepare_cookies\u001b[0m\u001b[0;34m(\u001b[0m\u001b[0mcookies\u001b[0m\u001b[0;34m)\u001b[0m\u001b[0;34m\u001b[0m\u001b[0;34m\u001b[0m\u001b[0m\n",
            "\u001b[0;32m/usr/local/lib/python3.10/dist-packages/requests/models.py\u001b[0m in \u001b[0;36mprepare_url\u001b[0;34m(self, url, params)\u001b[0m\n\u001b[1;32m    437\u001b[0m \u001b[0;34m\u001b[0m\u001b[0m\n\u001b[1;32m    438\u001b[0m         \u001b[0;32mif\u001b[0m \u001b[0;32mnot\u001b[0m \u001b[0mscheme\u001b[0m\u001b[0;34m:\u001b[0m\u001b[0;34m\u001b[0m\u001b[0;34m\u001b[0m\u001b[0m\n\u001b[0;32m--> 439\u001b[0;31m             raise MissingSchema(\n\u001b[0m\u001b[1;32m    440\u001b[0m                 \u001b[0;34mf\"Invalid URL {url!r}: No scheme supplied. \"\u001b[0m\u001b[0;34m\u001b[0m\u001b[0;34m\u001b[0m\u001b[0m\n\u001b[1;32m    441\u001b[0m                 \u001b[0;34mf\"Perhaps you meant https://{url}?\"\u001b[0m\u001b[0;34m\u001b[0m\u001b[0;34m\u001b[0m\u001b[0m\n",
            "\u001b[0;31mMissingSchema\u001b[0m: Invalid URL '/content/drive/MyDrive/New folder/kubernetes/issues/115702': No scheme supplied. Perhaps you meant https:///content/drive/MyDrive/New folder/kubernetes/issues/115702?"
          ]
        }
      ]
    },
    {
      "cell_type": "code",
      "source": [
        "import requests\n",
        "from pydriller import Repository\n",
        "import pandas as pd\n",
        "from datetime import datetime, timedelta\n",
        "import re\n",
        "\n",
        "# Specify the GitHub repository owner and name for Kubernetes\n",
        "repository_owner = 'kubernetes'\n",
        "repository_name = 'kubernetes'\n",
        "\n",
        "# GitHub API endpoint for issues\n",
        "issues_api_url = f'https://api.github.com/repos/{repository_owner}/{repository_name}/issues'\n",
        "\n",
        "# Set the start date as the current date minus 24 months\n",
        "start_date = datetime.now() - timedelta(days=1 * 365 / 12)\n",
        "\n",
        "# Initialize an empty list to store commit and issue data\n",
        "commit_data = []\n",
        "issue_data = []\n",
        "\n",
        "# Use PyDriller to analyze the Kubernetes repository for commits within the last 24 months\n",
        "for commit in Repository(f'{repository_owner}/{repository_name}', since=start_date).traverse_commits():\n",
        "    commit_info = {\n",
        "        'commit_id': commit.hash,\n",
        "        'commit_time': commit.committer_date,\n",
        "        'committer_id': commit.committer.name,\n",
        "        'changed_files': len(commit.modified_files),\n",
        "        'changed_LOC': commit.lines\n",
        "    }\n",
        "    commit_data.append(commit_info)\n",
        "\n",
        "    # Check if the commit message contains issue references\n",
        "    issue_references = re.findall(r'#(\\d+)', commit.msg)\n",
        "    for issue_id in issue_references:\n",
        "        # Fetch additional information about the issue using GitHub API\n",
        "        issue_url = f'{issues_api_url}/{issue_id}'\n",
        "        issue_response = requests.get(issue_url)\n",
        "        if issue_response.status_code == 200:\n",
        "            issue_info = {\n",
        "                'issue_id': issue_id,\n",
        "                'commit_id': commit.hash,\n",
        "                'commit_time': commit.committer_date,\n",
        "                'committer_id': commit.committer.name,\n",
        "                'issue_content': issue_response.json().get('title', ''),\n",
        "                'issue_type': issue_response.json().get('labels', [])[0]['name'] if issue_response.json().get('labels') else '',\n",
        "                'issue_status': issue_response.json().get('state', ''),\n",
        "                'issue_open_time': issue_response.json().get('created_at', ''),\n",
        "                'issue_close_time': issue_response.json().get('closed_at', ''),\n",
        "                'issue_creator': issue_response.json().get('user', {}).get('login', ''),\n",
        "                'issue_closer': issue_response.json().get('closed_by', {}).get('login', '') if issue_response.json().get('closed_by') else ''\n",
        "            }\n",
        "            issue_data.append(issue_info)\n",
        "\n",
        "# Create Pandas DataFrames from the commit and issue data\n",
        "commit_df = pd.DataFrame(commit_data)\n",
        "issue_df = pd.DataFrame(issue_data)\n",
        "\n",
        "# Clean the data (if needed)\n",
        "# Add your cleaning operations here\n",
        "\n",
        "# Save commit and issue data to CSV files\n",
        "commit_df.to_csv('kubernetes_commits.csv', index=False)\n",
        "issue_df.to_csv('kubernetes_issues.csv', index=False)\n"
      ],
      "metadata": {
        "colab": {
          "base_uri": "https://localhost:8080/",
          "height": 390
        },
        "id": "kGl62IyqM9f6",
        "outputId": "1209224a-24f2-4f8f-f9d5-5a504ca82664"
      },
      "execution_count": null,
      "outputs": [
        {
          "output_type": "error",
          "ename": "NoSuchPathError",
          "evalue": "ignored",
          "traceback": [
            "\u001b[0;31m---------------------------------------------------------------------------\u001b[0m",
            "\u001b[0;31mNoSuchPathError\u001b[0m                           Traceback (most recent call last)",
            "\u001b[0;32m<ipython-input-13-a3eb2f76d299>\u001b[0m in \u001b[0;36m<cell line: 22>\u001b[0;34m()\u001b[0m\n\u001b[1;32m     20\u001b[0m \u001b[0;34m\u001b[0m\u001b[0m\n\u001b[1;32m     21\u001b[0m \u001b[0;31m# Use PyDriller to analyze the Kubernetes repository for commits within the last 24 months\u001b[0m\u001b[0;34m\u001b[0m\u001b[0;34m\u001b[0m\u001b[0m\n\u001b[0;32m---> 22\u001b[0;31m \u001b[0;32mfor\u001b[0m \u001b[0mcommit\u001b[0m \u001b[0;32min\u001b[0m \u001b[0mRepository\u001b[0m\u001b[0;34m(\u001b[0m\u001b[0;34mf'{repository_owner}/{repository_name}'\u001b[0m\u001b[0;34m,\u001b[0m \u001b[0msince\u001b[0m\u001b[0;34m=\u001b[0m\u001b[0mstart_date\u001b[0m\u001b[0;34m)\u001b[0m\u001b[0;34m.\u001b[0m\u001b[0mtraverse_commits\u001b[0m\u001b[0;34m(\u001b[0m\u001b[0;34m)\u001b[0m\u001b[0;34m:\u001b[0m\u001b[0;34m\u001b[0m\u001b[0;34m\u001b[0m\u001b[0m\n\u001b[0m\u001b[1;32m     23\u001b[0m     commit_info = {\n\u001b[1;32m     24\u001b[0m         \u001b[0;34m'commit_id'\u001b[0m\u001b[0;34m:\u001b[0m \u001b[0mcommit\u001b[0m\u001b[0;34m.\u001b[0m\u001b[0mhash\u001b[0m\u001b[0;34m,\u001b[0m\u001b[0;34m\u001b[0m\u001b[0;34m\u001b[0m\u001b[0m\n",
            "\u001b[0;32m/usr/local/lib/python3.10/dist-packages/pydriller/repository.py\u001b[0m in \u001b[0;36mtraverse_commits\u001b[0;34m(self)\u001b[0m\n\u001b[1;32m    213\u001b[0m         \"\"\"\n\u001b[1;32m    214\u001b[0m         \u001b[0;32mfor\u001b[0m \u001b[0mpath_repo\u001b[0m \u001b[0;32min\u001b[0m \u001b[0mself\u001b[0m\u001b[0;34m.\u001b[0m\u001b[0m_conf\u001b[0m\u001b[0;34m.\u001b[0m\u001b[0mget\u001b[0m\u001b[0;34m(\u001b[0m\u001b[0;34m'path_to_repos'\u001b[0m\u001b[0;34m)\u001b[0m\u001b[0;34m:\u001b[0m\u001b[0;34m\u001b[0m\u001b[0;34m\u001b[0m\u001b[0m\n\u001b[0;32m--> 215\u001b[0;31m             \u001b[0;32mwith\u001b[0m \u001b[0mself\u001b[0m\u001b[0;34m.\u001b[0m\u001b[0m_prep_repo\u001b[0m\u001b[0;34m(\u001b[0m\u001b[0mpath_repo\u001b[0m\u001b[0;34m=\u001b[0m\u001b[0mpath_repo\u001b[0m\u001b[0;34m)\u001b[0m \u001b[0;32mas\u001b[0m \u001b[0mgit\u001b[0m\u001b[0;34m:\u001b[0m\u001b[0;34m\u001b[0m\u001b[0;34m\u001b[0m\u001b[0m\n\u001b[0m\u001b[1;32m    216\u001b[0m                 \u001b[0mlogger\u001b[0m\u001b[0;34m.\u001b[0m\u001b[0minfo\u001b[0m\u001b[0;34m(\u001b[0m\u001b[0;34mf'Analyzing git repository in {git.path}'\u001b[0m\u001b[0;34m)\u001b[0m\u001b[0;34m\u001b[0m\u001b[0;34m\u001b[0m\u001b[0m\n\u001b[1;32m    217\u001b[0m \u001b[0;34m\u001b[0m\u001b[0m\n",
            "\u001b[0;32m/usr/lib/python3.10/contextlib.py\u001b[0m in \u001b[0;36m__enter__\u001b[0;34m(self)\u001b[0m\n\u001b[1;32m    133\u001b[0m         \u001b[0;32mdel\u001b[0m \u001b[0mself\u001b[0m\u001b[0;34m.\u001b[0m\u001b[0margs\u001b[0m\u001b[0;34m,\u001b[0m \u001b[0mself\u001b[0m\u001b[0;34m.\u001b[0m\u001b[0mkwds\u001b[0m\u001b[0;34m,\u001b[0m \u001b[0mself\u001b[0m\u001b[0;34m.\u001b[0m\u001b[0mfunc\u001b[0m\u001b[0;34m\u001b[0m\u001b[0;34m\u001b[0m\u001b[0m\n\u001b[1;32m    134\u001b[0m         \u001b[0;32mtry\u001b[0m\u001b[0;34m:\u001b[0m\u001b[0;34m\u001b[0m\u001b[0;34m\u001b[0m\u001b[0m\n\u001b[0;32m--> 135\u001b[0;31m             \u001b[0;32mreturn\u001b[0m \u001b[0mnext\u001b[0m\u001b[0;34m(\u001b[0m\u001b[0mself\u001b[0m\u001b[0;34m.\u001b[0m\u001b[0mgen\u001b[0m\u001b[0;34m)\u001b[0m\u001b[0;34m\u001b[0m\u001b[0;34m\u001b[0m\u001b[0m\n\u001b[0m\u001b[1;32m    136\u001b[0m         \u001b[0;32mexcept\u001b[0m \u001b[0mStopIteration\u001b[0m\u001b[0;34m:\u001b[0m\u001b[0;34m\u001b[0m\u001b[0;34m\u001b[0m\u001b[0m\n\u001b[1;32m    137\u001b[0m             \u001b[0;32mraise\u001b[0m \u001b[0mRuntimeError\u001b[0m\u001b[0;34m(\u001b[0m\u001b[0;34m\"generator didn't yield\"\u001b[0m\u001b[0;34m)\u001b[0m \u001b[0;32mfrom\u001b[0m \u001b[0;32mNone\u001b[0m\u001b[0;34m\u001b[0m\u001b[0;34m\u001b[0m\u001b[0m\n",
            "\u001b[0;32m/usr/local/lib/python3.10/dist-packages/pydriller/repository.py\u001b[0m in \u001b[0;36m_prep_repo\u001b[0;34m(self, path_repo)\u001b[0m\n\u001b[1;32m    184\u001b[0m         \u001b[0mself\u001b[0m\u001b[0;34m.\u001b[0m\u001b[0m_conf\u001b[0m\u001b[0;34m.\u001b[0m\u001b[0mset_value\u001b[0m\u001b[0;34m(\u001b[0m\u001b[0;34m'path_to_repo'\u001b[0m\u001b[0;34m,\u001b[0m \u001b[0mlocal_path_repo\u001b[0m\u001b[0;34m)\u001b[0m\u001b[0;34m\u001b[0m\u001b[0;34m\u001b[0m\u001b[0m\n\u001b[1;32m    185\u001b[0m \u001b[0;34m\u001b[0m\u001b[0m\n\u001b[0;32m--> 186\u001b[0;31m         \u001b[0mself\u001b[0m\u001b[0;34m.\u001b[0m\u001b[0mgit\u001b[0m \u001b[0;34m=\u001b[0m \u001b[0mGit\u001b[0m\u001b[0;34m(\u001b[0m\u001b[0mlocal_path_repo\u001b[0m\u001b[0;34m,\u001b[0m \u001b[0mself\u001b[0m\u001b[0;34m.\u001b[0m\u001b[0m_conf\u001b[0m\u001b[0;34m)\u001b[0m\u001b[0;34m\u001b[0m\u001b[0;34m\u001b[0m\u001b[0m\n\u001b[0m\u001b[1;32m    187\u001b[0m         \u001b[0;31m# saving the Git object for further use\u001b[0m\u001b[0;34m\u001b[0m\u001b[0;34m\u001b[0m\u001b[0m\n\u001b[1;32m    188\u001b[0m         \u001b[0mself\u001b[0m\u001b[0;34m.\u001b[0m\u001b[0m_conf\u001b[0m\u001b[0;34m.\u001b[0m\u001b[0mset_value\u001b[0m\u001b[0;34m(\u001b[0m\u001b[0;34m\"git\"\u001b[0m\u001b[0;34m,\u001b[0m \u001b[0mself\u001b[0m\u001b[0;34m.\u001b[0m\u001b[0mgit\u001b[0m\u001b[0;34m)\u001b[0m\u001b[0;34m\u001b[0m\u001b[0;34m\u001b[0m\u001b[0m\n",
            "\u001b[0;32m/usr/local/lib/python3.10/dist-packages/pydriller/git.py\u001b[0m in \u001b[0;36m__init__\u001b[0;34m(self, path, conf)\u001b[0m\n\u001b[1;32m     59\u001b[0m \u001b[0;34m\u001b[0m\u001b[0m\n\u001b[1;32m     60\u001b[0m         \u001b[0;31m# Initialize repository\u001b[0m\u001b[0;34m\u001b[0m\u001b[0;34m\u001b[0m\u001b[0m\n\u001b[0;32m---> 61\u001b[0;31m         \u001b[0mself\u001b[0m\u001b[0;34m.\u001b[0m\u001b[0m_open_repository\u001b[0m\u001b[0;34m(\u001b[0m\u001b[0;34m)\u001b[0m\u001b[0;34m\u001b[0m\u001b[0;34m\u001b[0m\u001b[0m\n\u001b[0m\u001b[1;32m     62\u001b[0m \u001b[0;34m\u001b[0m\u001b[0m\n\u001b[1;32m     63\u001b[0m     \u001b[0;34m@\u001b[0m\u001b[0mproperty\u001b[0m\u001b[0;34m\u001b[0m\u001b[0;34m\u001b[0m\u001b[0m\n",
            "\u001b[0;32m/usr/local/lib/python3.10/dist-packages/pydriller/git.py\u001b[0m in \u001b[0;36m_open_repository\u001b[0;34m(self)\u001b[0m\n\u001b[1;32m     85\u001b[0m \u001b[0;34m\u001b[0m\u001b[0m\n\u001b[1;32m     86\u001b[0m     \u001b[0;32mdef\u001b[0m \u001b[0m_open_repository\u001b[0m\u001b[0;34m(\u001b[0m\u001b[0mself\u001b[0m\u001b[0;34m)\u001b[0m\u001b[0;34m:\u001b[0m\u001b[0;34m\u001b[0m\u001b[0;34m\u001b[0m\u001b[0m\n\u001b[0;32m---> 87\u001b[0;31m         \u001b[0mself\u001b[0m\u001b[0;34m.\u001b[0m\u001b[0m_repo\u001b[0m \u001b[0;34m=\u001b[0m \u001b[0mRepo\u001b[0m\u001b[0;34m(\u001b[0m\u001b[0mstr\u001b[0m\u001b[0;34m(\u001b[0m\u001b[0mself\u001b[0m\u001b[0;34m.\u001b[0m\u001b[0mpath\u001b[0m\u001b[0;34m)\u001b[0m\u001b[0;34m)\u001b[0m\u001b[0;34m\u001b[0m\u001b[0;34m\u001b[0m\u001b[0m\n\u001b[0m\u001b[1;32m     88\u001b[0m         \u001b[0mself\u001b[0m\u001b[0;34m.\u001b[0m\u001b[0m_repo\u001b[0m\u001b[0;34m.\u001b[0m\u001b[0mconfig_writer\u001b[0m\u001b[0;34m(\u001b[0m\u001b[0;34m)\u001b[0m\u001b[0;34m.\u001b[0m\u001b[0mset_value\u001b[0m\u001b[0;34m(\u001b[0m\u001b[0;34m\"blame\"\u001b[0m\u001b[0;34m,\u001b[0m \u001b[0;34m\"markUnblamableLines\"\u001b[0m\u001b[0;34m,\u001b[0m \u001b[0;34m\"true\"\u001b[0m\u001b[0;34m)\u001b[0m\u001b[0;34m.\u001b[0m\u001b[0mrelease\u001b[0m\u001b[0;34m(\u001b[0m\u001b[0;34m)\u001b[0m\u001b[0;34m\u001b[0m\u001b[0;34m\u001b[0m\u001b[0m\n\u001b[1;32m     89\u001b[0m         \u001b[0;32mif\u001b[0m \u001b[0mself\u001b[0m\u001b[0;34m.\u001b[0m\u001b[0m_conf\u001b[0m\u001b[0;34m.\u001b[0m\u001b[0mget\u001b[0m\u001b[0;34m(\u001b[0m\u001b[0;34m\"main_branch\"\u001b[0m\u001b[0;34m)\u001b[0m \u001b[0;32mis\u001b[0m \u001b[0;32mNone\u001b[0m\u001b[0;34m:\u001b[0m\u001b[0;34m\u001b[0m\u001b[0;34m\u001b[0m\u001b[0m\n",
            "\u001b[0;32m/usr/local/lib/python3.10/dist-packages/git/repo/base.py\u001b[0m in \u001b[0;36m__init__\u001b[0;34m(self, path, odbt, search_parent_directories, expand_vars)\u001b[0m\n\u001b[1;32m    213\u001b[0m         \u001b[0;32mif\u001b[0m \u001b[0mepath\u001b[0m \u001b[0;32mis\u001b[0m \u001b[0;32mnot\u001b[0m \u001b[0;32mNone\u001b[0m\u001b[0;34m:\u001b[0m\u001b[0;34m\u001b[0m\u001b[0;34m\u001b[0m\u001b[0m\n\u001b[1;32m    214\u001b[0m             \u001b[0;32mif\u001b[0m \u001b[0;32mnot\u001b[0m \u001b[0mos\u001b[0m\u001b[0;34m.\u001b[0m\u001b[0mpath\u001b[0m\u001b[0;34m.\u001b[0m\u001b[0mexists\u001b[0m\u001b[0;34m(\u001b[0m\u001b[0mepath\u001b[0m\u001b[0;34m)\u001b[0m\u001b[0;34m:\u001b[0m\u001b[0;34m\u001b[0m\u001b[0;34m\u001b[0m\u001b[0m\n\u001b[0;32m--> 215\u001b[0;31m                 \u001b[0;32mraise\u001b[0m \u001b[0mNoSuchPathError\u001b[0m\u001b[0;34m(\u001b[0m\u001b[0mepath\u001b[0m\u001b[0;34m)\u001b[0m\u001b[0;34m\u001b[0m\u001b[0;34m\u001b[0m\u001b[0m\n\u001b[0m\u001b[1;32m    216\u001b[0m \u001b[0;34m\u001b[0m\u001b[0m\n\u001b[1;32m    217\u001b[0m         \u001b[0;31m## Walk up the path to find the `.git` dir.\u001b[0m\u001b[0;34m\u001b[0m\u001b[0;34m\u001b[0m\u001b[0m\n",
            "\u001b[0;31mNoSuchPathError\u001b[0m: /content/kubernetes/kubernetes"
          ]
        }
      ]
    },
    {
      "cell_type": "code",
      "source": [
        "import requests\n",
        "from pydriller import Repository\n",
        "import pandas as pd\n",
        "from datetime import datetime, timedelta\n",
        "import re\n",
        "\n",
        "# Specify the GitHub repository owner and name for Kubernetes\n",
        "repository_owner = 'kubernetes'\n",
        "repository_name = 'kubernetes'\n",
        "\n",
        "# GitHub API endpoint for issues\n",
        "issues_api_url = f'https://api.github.com/repos/{repository_owner}/{repository_name}/issues'\n",
        "\n",
        "# Set the start date as the current date minus 24 months\n",
        "start_date = datetime.now() - timedelta(days=1 * 365 / 12)\n",
        "\n",
        "# Initialize an empty list to store commit and issue data\n",
        "commit_data = []\n",
        "issue_data = []\n",
        "\n",
        "# Use PyDriller to analyze the Kubernetes repository for commits within the last 24 months\n",
        "for commit in Repository(repository_name, owner=repository_owner, since=start_date).traverse_commits():\n",
        "    commit_info = {\n",
        "        'commit_id': commit.hash,\n",
        "        'commit_time': commit.committer_date,\n",
        "        'committer_id': commit.committer.name,\n",
        "        'changed_files': len(commit.modified_files),\n",
        "        'changed_LOC': commit.lines\n",
        "    }\n",
        "    commit_data.append(commit_info)\n",
        "\n",
        "    # Check if the commit message contains issue references\n",
        "    issue_references = re.findall(r'#(\\d+)', commit.msg)\n",
        "    for issue_id in issue_references:\n",
        "        # Fetch additional information about the issue using GitHub API\n",
        "        issue_url = f'{issues_api_url}/{issue_id}'\n",
        "        issue_response = requests.get(issue_url)\n",
        "        if issue_response.status_code == 200:\n",
        "            issue_info = {\n",
        "                'issue_id': issue_id,\n",
        "                'commit_id': commit.hash,\n",
        "                'commit_time': commit.committer_date,\n",
        "                'committer_id': commit.committer.name,\n",
        "                'issue_content': issue_response.json().get('title', ''),\n",
        "                'issue_type': issue_response.json().get('labels', [])[0]['name'] if issue_response.json().get('labels') else '',\n",
        "                'issue_status': issue_response.json().get('state', ''),\n",
        "                'issue_open_time': issue_response.json().get('created_at', ''),\n",
        "                'issue_close_time': issue_response.json().get('closed_at', ''),\n",
        "                'issue_creator': issue_response.json().get('user', {}).get('login', ''),\n",
        "                'issue_closer': issue_response.json().get('closed_by', {}).get('login', '') if issue_response.json().get('closed_by') else ''\n",
        "            }\n",
        "            issue_data.append(issue_info)\n",
        "\n",
        "# Create Pandas DataFrames from the commit and issue data\n",
        "commit_df = pd.DataFrame(commit_data)\n",
        "issue_df = pd.DataFrame(issue_data)\n",
        "\n",
        "# Clean the data (if needed)\n",
        "# Add your cleaning operations here\n",
        "\n",
        "# Save commit and issue data to CSV files\n",
        "commit_df.to_csv('kubernetes_commits.csv', index=False)\n",
        "issue_df.to_csv('kubernetes_issues.csv', index=False)\n"
      ],
      "metadata": {
        "colab": {
          "base_uri": "https://localhost:8080/",
          "height": 245
        },
        "id": "ezNwWKpnN8_s",
        "outputId": "3843d2e6-31a5-4600-d5f6-653a7fbace22"
      },
      "execution_count": null,
      "outputs": [
        {
          "output_type": "error",
          "ename": "TypeError",
          "evalue": "ignored",
          "traceback": [
            "\u001b[0;31m---------------------------------------------------------------------------\u001b[0m",
            "\u001b[0;31mTypeError\u001b[0m                                 Traceback (most recent call last)",
            "\u001b[0;32m<ipython-input-14-df3f6f363c60>\u001b[0m in \u001b[0;36m<cell line: 22>\u001b[0;34m()\u001b[0m\n\u001b[1;32m     20\u001b[0m \u001b[0;34m\u001b[0m\u001b[0m\n\u001b[1;32m     21\u001b[0m \u001b[0;31m# Use PyDriller to analyze the Kubernetes repository for commits within the last 24 months\u001b[0m\u001b[0;34m\u001b[0m\u001b[0;34m\u001b[0m\u001b[0m\n\u001b[0;32m---> 22\u001b[0;31m \u001b[0;32mfor\u001b[0m \u001b[0mcommit\u001b[0m \u001b[0;32min\u001b[0m \u001b[0mRepository\u001b[0m\u001b[0;34m(\u001b[0m\u001b[0mrepository_name\u001b[0m\u001b[0;34m,\u001b[0m \u001b[0mowner\u001b[0m\u001b[0;34m=\u001b[0m\u001b[0mrepository_owner\u001b[0m\u001b[0;34m,\u001b[0m \u001b[0msince\u001b[0m\u001b[0;34m=\u001b[0m\u001b[0mstart_date\u001b[0m\u001b[0;34m)\u001b[0m\u001b[0;34m.\u001b[0m\u001b[0mtraverse_commits\u001b[0m\u001b[0;34m(\u001b[0m\u001b[0;34m)\u001b[0m\u001b[0;34m:\u001b[0m\u001b[0;34m\u001b[0m\u001b[0;34m\u001b[0m\u001b[0m\n\u001b[0m\u001b[1;32m     23\u001b[0m     commit_info = {\n\u001b[1;32m     24\u001b[0m         \u001b[0;34m'commit_id'\u001b[0m\u001b[0;34m:\u001b[0m \u001b[0mcommit\u001b[0m\u001b[0;34m.\u001b[0m\u001b[0mhash\u001b[0m\u001b[0;34m,\u001b[0m\u001b[0;34m\u001b[0m\u001b[0;34m\u001b[0m\u001b[0m\n",
            "\u001b[0;31mTypeError\u001b[0m: Repository.__init__() got an unexpected keyword argument 'owner'"
          ]
        }
      ]
    },
    {
      "cell_type": "code",
      "source": [
        "import requests\n",
        "from pydriller import Repository\n",
        "import pandas as pd\n",
        "from datetime import datetime, timedelta\n",
        "import re\n",
        "\n",
        "# Specify the GitHub repository owner and name for Kubernetes\n",
        "repository_owner = 'kubernetes'\n",
        "repository_name = 'kubernetes'\n",
        "\n",
        "# GitHub API endpoint for issues\n",
        "issues_api_url = f'https://api.github.com/repos/{repository_owner}/{repository_name}/issues'\n",
        "\n",
        "# Set the start date as the current date minus 24 months\n",
        "start_date = datetime.now() - timedelta(days=24 * 365 / 12)\n",
        "\n",
        "# Initialize an empty list to store commit and issue data\n",
        "commit_data = []\n",
        "issue_data = []\n",
        "\n",
        "# Use PyDriller to analyze the Kubernetes repository for commits within the last 24 months\n",
        "repository_url = f'https://github.com/{repository_owner}/{repository_name}.git'\n",
        "for commit in Repository(repository_url, since=start_date).traverse_commits():\n",
        "    commit_info = {\n",
        "        'commit_id': commit.hash,\n",
        "        'commit_time': commit.committer_date,\n",
        "        'committer_id': commit.committer.name,\n",
        "        'changed_files': len(commit.modified_files),\n",
        "        'changed_LOC': commit.lines\n",
        "    }\n",
        "    commit_data.append(commit_info)\n",
        "\n",
        "    # Check if the commit message contains issue references\n",
        "    issue_references = re.findall(r'#(\\d+)', commit.msg)\n",
        "    for issue_id in issue_references:\n",
        "        # Fetch additional information about the issue using GitHub API\n",
        "        issue_url = f'{issues_api_url}/{issue_id}'\n",
        "        issue_response = requests.get(issue_url)\n",
        "        if issue_response.status_code == 200:\n",
        "            issue_info = {\n",
        "                'issue_id': issue_id,\n",
        "                'commit_id': commit.hash,\n",
        "                'commit_time': commit.committer_date,\n",
        "                'committer_id': commit.committer.name,\n",
        "                'issue_content': issue_response.json().get('title', ''),\n",
        "                'issue_type': issue_response.json().get('labels', [])[0]['name'] if issue_response.json().get('labels') else '',\n",
        "                'issue_status': issue_response.json().get('state', ''),\n",
        "                'issue_open_time': issue_response.json().get('created_at', ''),\n",
        "                'issue_close_time': issue_response.json().get('closed_at', ''),\n",
        "                'issue_creator': issue_response.json().get('user', {}).get('login', ''),\n",
        "                'issue_closer': issue_response.json().get('closed_by', {}).get('login', '') if issue_response.json().get('closed_by') else ''\n",
        "            }\n",
        "            issue_data.append(issue_info)\n",
        "\n",
        "# Create Pandas DataFrames from the commit and issue data\n",
        "commit_df = pd.DataFrame(commit_data)\n",
        "issue_df = pd.DataFrame(issue_data)\n",
        "\n",
        "# Clean the data (if needed)\n",
        "# Add your cleaning operations here\n",
        "\n",
        "# Save commit and issue data to CSV files\n",
        "commit_df.to_csv('kubernetes_commits.csv', index=False)\n",
        "issue_df.to_csv('kubernetes_issues.csv', index=False)\n",
        "print('download ho gya hai')\n"
      ],
      "metadata": {
        "id": "-Z5l4ibLOMP9"
      },
      "execution_count": null,
      "outputs": []
    },
    {
      "cell_type": "markdown",
      "source": [
        "Ye wala code sahi chal rha hai."
      ],
      "metadata": {
        "id": "WAOCw6ipgU_H"
      }
    },
    {
      "cell_type": "code",
      "source": [],
      "metadata": {
        "id": "v9DCglPtgYEi"
      },
      "execution_count": null,
      "outputs": []
    }
  ]
}